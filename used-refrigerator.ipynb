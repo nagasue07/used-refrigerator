{
 "cells": [
  {
   "cell_type": "code",
   "execution_count": 78,
   "id": "d429ca0a-c2d4-46c2-a3a9-9fa2d4c04311",
   "metadata": {},
   "outputs": [],
   "source": [
    "#  アマゾンで「冷蔵庫　中古」を検索した20ページ分の情報をCSVデータに落とし、価格帯別にそれぞれ保存する"
   ]
  },
  {
   "cell_type": "code",
   "execution_count": 29,
   "id": "56ee583a-f6c2-445b-b163-d5ec021207b0",
   "metadata": {
    "scrolled": true
   },
   "outputs": [
    {
     "name": "stdout",
     "output_type": "stream",
     "text": [
      "Requirement already satisfied: requests in c:\\users\\user\\anaconda3\\lib\\site-packages (2.32.2)\n",
      "Requirement already satisfied: beautifulsoup4 in c:\\users\\user\\anaconda3\\lib\\site-packages (4.12.3)\n",
      "Requirement already satisfied: charset-normalizer<4,>=2 in c:\\users\\user\\anaconda3\\lib\\site-packages (from requests) (2.0.4)\n",
      "Requirement already satisfied: idna<4,>=2.5 in c:\\users\\user\\anaconda3\\lib\\site-packages (from requests) (3.7)\n",
      "Requirement already satisfied: urllib3<3,>=1.21.1 in c:\\users\\user\\anaconda3\\lib\\site-packages (from requests) (2.2.2)\n",
      "Requirement already satisfied: certifi>=2017.4.17 in c:\\users\\user\\anaconda3\\lib\\site-packages (from requests) (2024.6.2)\n",
      "Requirement already satisfied: soupsieve>1.2 in c:\\users\\user\\anaconda3\\lib\\site-packages (from beautifulsoup4) (2.5)\n",
      "Note: you may need to restart the kernel to use updated packages.\n"
     ]
    }
   ],
   "source": [
    "pip install requests beautifulsoup4"
   ]
  },
  {
   "cell_type": "code",
   "execution_count": 30,
   "id": "9347e10d-ee00-473f-86fc-6b595089c385",
   "metadata": {},
   "outputs": [],
   "source": [
    "import requests"
   ]
  },
  {
   "cell_type": "code",
   "execution_count": 31,
   "id": "705d218d-e527-40ea-a70d-1a4501cb12ff",
   "metadata": {},
   "outputs": [],
   "source": [
    "from bs4 import BeautifulSoup"
   ]
  },
  {
   "cell_type": "code",
   "execution_count": 32,
   "id": "eb280c2d-2ef8-44c6-8b55-31fbfe7962be",
   "metadata": {},
   "outputs": [],
   "source": [
    "import csv"
   ]
  },
  {
   "cell_type": "code",
   "execution_count": 33,
   "id": "92575878-129c-4d46-8a7b-da3d950d1dc4",
   "metadata": {},
   "outputs": [],
   "source": [
    "from time import sleep"
   ]
  },
  {
   "cell_type": "code",
   "execution_count": 34,
   "id": "2d226bb3-3b73-48c3-aa19-2160500070c9",
   "metadata": {},
   "outputs": [],
   "source": [
    "import random"
   ]
  },
  {
   "cell_type": "code",
   "execution_count": 35,
   "id": "1c39f516-beeb-4156-9074-922c0815caee",
   "metadata": {},
   "outputs": [],
   "source": [
    "import pandas as pd"
   ]
  },
  {
   "cell_type": "code",
   "execution_count": 36,
   "id": "a26ee054-1530-407b-a1d7-5097ff3cd6b8",
   "metadata": {},
   "outputs": [],
   "source": [
    "import matplotlib.pyplot as plt"
   ]
  },
  {
   "cell_type": "code",
   "execution_count": 37,
   "id": "2d8c4eab-e0bb-42c7-9757-047dc1462a94",
   "metadata": {},
   "outputs": [],
   "source": [
    "import seaborn as sns"
   ]
  },
  {
   "cell_type": "code",
   "execution_count": 38,
   "id": "064cc906-7f1a-4be8-b47b-0fd840d52604",
   "metadata": {},
   "outputs": [],
   "source": [
    "# user agent指定\n",
    "def get_amazon_data(url):\n",
    "    headers = {\n",
    "        'User-Agent': 'Mozilla/5.0 (Windows NT 10.0; Win64; x64) AppleWebKit/537.36 (KHTML, like Gecko) Chrome/58.0.3029.110 Safari/537.3'\n",
    "        }\n",
    "    response = requests.get(url, headers=headers)\n",
    "    return BeautifulSoup(response.content, 'html.parser')\n"
   ]
  },
  {
   "cell_type": "code",
   "execution_count": 39,
   "id": "589851bf-5162-43aa-8ca6-ce82ced99b03",
   "metadata": {},
   "outputs": [],
   "source": [
    "#　製品情報のタイトル、価格、状態を抽出\n",
    "def extract_product_info(product):\n",
    "    title = product.find('span', class_='a-size-medium a-color-base a-text-normal')\n",
    "    price =product.find('span', class_='a-price-whole')\n",
    "    condition = product.find('span', class_='a-color-secondary')\n",
    " \n",
    "    return {\n",
    "    'title': title.text.strip() if title else 'N/A',\n",
    "    'price': price.text.strip() if price else 'N/A',\n",
    "    'condition': condition.text.strip() if condition else 'N/A'\n",
    "}"
   ]
  },
  {
   "cell_type": "code",
   "execution_count": 40,
   "id": "1af10b82-b959-4bf5-a361-f4a1e064a96a",
   "metadata": {},
   "outputs": [],
   "source": [
    "# CSVファイル保存\n",
    "def save_to_csv(data, filename):\n",
    "    with open(filename, 'w', newline='', encoding='utf-8') as file:\n",
    "        writer = csv.DictWriter(file, fieldnames=['title', 'price', 'condition'])\n",
    "        writer.writeheader()\n",
    "        writer.writerows(data)"
   ]
  },
  {
   "cell_type": "code",
   "execution_count": 41,
   "id": "5252c2e5-3f89-4b75-bd52-6e6222f227dc",
   "metadata": {},
   "outputs": [],
   "source": [
    "# 価格帯ごとに分類\n",
    "def categorize_by_price(data):\n",
    "    categorized = {\n",
    "        'Under 10000': [],\n",
    "        '10000 to 30000': [],\n",
    "        '30000 to 50000': [],\n",
    "        'Over 50000': []\n",
    "    }\n",
    "    \n",
    "    for item in data:\n",
    "        try:\n",
    "            price = int(item['price'].replace(',', ''))\n",
    "            if price < 10000:\n",
    "                categorized['Under 10000'].append(item)\n",
    "            elif 10000 <= price < 30000:\n",
    "                categorized['10000 to 30000'].append(item)\n",
    "            elif 30000 <= price < 50000:\n",
    "                categorized['30000 to 50000'].append(item)\n",
    "            else:\n",
    "                categorized['Over 50000'].append(item)\n",
    "        except ValueError:\n",
    "            print(f\"Price conversion error for item: {item}\")\n",
    "    \n",
    "    return categorized"
   ]
  },
  {
   "cell_type": "code",
   "execution_count": 42,
   "id": "b4ffe513-ae57-497c-b877-d949d10499d9",
   "metadata": {},
   "outputs": [],
   "source": [
    "# メイン処理\n",
    "def main():\n",
    "    base_url = \"https://www.amazon.co.jp/s?k=冷蔵庫&rh=n%3A2277724051%2Cp_n_condition-type%3A2280622051&dc&language=ja_JP\"\n",
    "    all_products = []\n",
    "\n",
    "    \n",
    "    for page in range(1, 21):  # 20ページ分スクレイピング\n",
    "        url = f\"{base_url}&page={page}\"\n",
    "        soup = get_amazon_data(url)\n",
    "        products = soup.find_all('div', class_='s-result-item')\n",
    "        \n",
    "        for product in products: # 価格帯ごとに分類\n",
    "            product_info = extract_product_info(product)\n",
    "            if product_info['price'] != 'N/A':\n",
    "                all_products.append(product_info)\n",
    "        \n",
    "        sleep(random.uniform(1, 3)) #　サーバー負荷軽減\n",
    "    \n",
    "    save_to_csv(all_products, 'amazon_used_refrigerators.csv') # CSVデータ保存\n",
    "    categorized_products = categorize_by_price(all_products)  # 保存タイトル\n",
    "    for category, products in categorized_products.items():\n",
    "        save_to_csv(products, f'amazon_used_refrigerators_{category}.csv')\n",
    "\n",
    "if __name__ == \"__main__\":\n",
    "    main()"
   ]
  },
  {
   "cell_type": "code",
   "execution_count": 43,
   "id": "61e9252b-ae69-4890-a287-26a5443207f9",
   "metadata": {},
   "outputs": [],
   "source": [
    "# 生成されたCSVファイルを読み込む\n",
    "df_all = pd.read_csv('amazon_used_refrigerators.csv')\n",
    "df_under_10000 = pd.read_csv('amazon_used_refrigerators_Under 10000.csv')\n",
    "df_10000_to_30000 = pd.read_csv('amazon_used_refrigerators_10000 to 30000.csv')\n",
    "df_30000_to_50000 = pd.read_csv('amazon_used_refrigerators_30000 to 50000.csv')\n",
    "df_over_50000 = pd.read_csv('amazon_used_refrigerators_Over 50000.csv')"
   ]
  },
  {
   "cell_type": "code",
   "execution_count": 44,
   "id": "137efb0a-8670-4372-bfe1-cbddf07b6bba",
   "metadata": {},
   "outputs": [
    {
     "name": "stdout",
     "output_type": "stream",
     "text": [
      "\n",
      "各価格帯の製品数:\n",
      "10,000円未満: 0\n",
      "10,000円から30,000円: 46\n",
      "30,000円から50,000円: 54\n",
      "50,000円以上: 44\n"
     ]
    }
   ],
   "source": [
    "# 各カテゴリの製品数を表示\n",
    "print(\"\\n各価格帯の製品数:\")\n",
    "print(f\"10,000円未満: {len(df_under_10000)}\")\n",
    "print(f\"10,000円から30,000円: {len(df_10000_to_30000)}\")\n",
    "print(f\"30,000円から50,000円: {len(df_30000_to_50000)}\")\n",
    "print(f\"50,000円以上: {len(df_over_50000)}\")"
   ]
  },
  {
   "cell_type": "code",
   "execution_count": 45,
   "id": "e0d12584-3816-4bd0-ae14-e265802dfa70",
   "metadata": {},
   "outputs": [],
   "source": [
    "# データの準備\n",
    "price_ranges = ['10,000円未満', '10,000円から30,000円', '30,000円から50,000円', '50,000円以上']\n",
    "counts = [0, 45, 54, 45]"
   ]
  },
  {
   "cell_type": "code",
   "execution_count": 49,
   "id": "a376a033-5dfd-4590-a974-9b26cd7dad7f",
   "metadata": {},
   "outputs": [
    {
     "data": {
      "text/plain": [
       "(-1.099998265872704,\n",
       " 1.0999987404386753,\n",
       " -1.0999945822859432,\n",
       " 1.0999991491646597)"
      ]
     },
     "execution_count": 49,
     "metadata": {},
     "output_type": "execute_result"
    },
    {
     "name": "stderr",
     "output_type": "stream",
     "text": [
      "C:\\Users\\user\\anaconda3\\Lib\\site-packages\\IPython\\core\\events.py:82: UserWarning: Glyph 20870 (\\N{CJK UNIFIED IDEOGRAPH-5186}) missing from current font.\n",
      "  func(*args, **kwargs)\n",
      "C:\\Users\\user\\anaconda3\\Lib\\site-packages\\IPython\\core\\events.py:82: UserWarning: Glyph 26410 (\\N{CJK UNIFIED IDEOGRAPH-672A}) missing from current font.\n",
      "  func(*args, **kwargs)\n",
      "C:\\Users\\user\\anaconda3\\Lib\\site-packages\\IPython\\core\\events.py:82: UserWarning: Glyph 28288 (\\N{CJK UNIFIED IDEOGRAPH-6E80}) missing from current font.\n",
      "  func(*args, **kwargs)\n",
      "C:\\Users\\user\\anaconda3\\Lib\\site-packages\\IPython\\core\\events.py:82: UserWarning: Glyph 12363 (\\N{HIRAGANA LETTER KA}) missing from current font.\n",
      "  func(*args, **kwargs)\n",
      "C:\\Users\\user\\anaconda3\\Lib\\site-packages\\IPython\\core\\events.py:82: UserWarning: Glyph 12425 (\\N{HIRAGANA LETTER RA}) missing from current font.\n",
      "  func(*args, **kwargs)\n",
      "C:\\Users\\user\\anaconda3\\Lib\\site-packages\\IPython\\core\\events.py:82: UserWarning: Glyph 20197 (\\N{CJK UNIFIED IDEOGRAPH-4EE5}) missing from current font.\n",
      "  func(*args, **kwargs)\n",
      "C:\\Users\\user\\anaconda3\\Lib\\site-packages\\IPython\\core\\events.py:82: UserWarning: Glyph 19978 (\\N{CJK UNIFIED IDEOGRAPH-4E0A}) missing from current font.\n",
      "  func(*args, **kwargs)\n",
      "C:\\Users\\user\\anaconda3\\Lib\\site-packages\\IPython\\core\\pylabtools.py:170: UserWarning: Glyph 20870 (\\N{CJK UNIFIED IDEOGRAPH-5186}) missing from current font.\n",
      "  fig.canvas.print_figure(bytes_io, **kw)\n",
      "C:\\Users\\user\\anaconda3\\Lib\\site-packages\\IPython\\core\\pylabtools.py:170: UserWarning: Glyph 26410 (\\N{CJK UNIFIED IDEOGRAPH-672A}) missing from current font.\n",
      "  fig.canvas.print_figure(bytes_io, **kw)\n",
      "C:\\Users\\user\\anaconda3\\Lib\\site-packages\\IPython\\core\\pylabtools.py:170: UserWarning: Glyph 28288 (\\N{CJK UNIFIED IDEOGRAPH-6E80}) missing from current font.\n",
      "  fig.canvas.print_figure(bytes_io, **kw)\n",
      "C:\\Users\\user\\anaconda3\\Lib\\site-packages\\IPython\\core\\pylabtools.py:170: UserWarning: Glyph 12363 (\\N{HIRAGANA LETTER KA}) missing from current font.\n",
      "  fig.canvas.print_figure(bytes_io, **kw)\n",
      "C:\\Users\\user\\anaconda3\\Lib\\site-packages\\IPython\\core\\pylabtools.py:170: UserWarning: Glyph 12425 (\\N{HIRAGANA LETTER RA}) missing from current font.\n",
      "  fig.canvas.print_figure(bytes_io, **kw)\n",
      "C:\\Users\\user\\anaconda3\\Lib\\site-packages\\IPython\\core\\pylabtools.py:170: UserWarning: Glyph 20197 (\\N{CJK UNIFIED IDEOGRAPH-4EE5}) missing from current font.\n",
      "  fig.canvas.print_figure(bytes_io, **kw)\n",
      "C:\\Users\\user\\anaconda3\\Lib\\site-packages\\IPython\\core\\pylabtools.py:170: UserWarning: Glyph 19978 (\\N{CJK UNIFIED IDEOGRAPH-4E0A}) missing from current font.\n",
      "  fig.canvas.print_figure(bytes_io, **kw)\n"
     ]
    },
    {
     "data": {
      "image/png": "[encoded data removed]",
      "text/plain": [
       "<Figure size 640x480 with 1 Axes>"
      ]
     },
     "metadata": {},
     "output_type": "display_data"
    }
   ],
   "source": [
    "# 円グラフの描画\n",
    "plt.pie(counts, labels=price_ranges, autopct='%1.1f%%', startangle=140)\n",
    "plt.axis('equal')  # アスペクト比を保つために設定"
   ]
  },
  {
   "cell_type": "code",
   "execution_count": 50,
   "id": "a94dbe95-aa60-45c7-8137-fe18cde4bee8",
   "metadata": {},
   "outputs": [],
   "source": [
    "plt.show()"
   ]
  },
  {
   "cell_type": "code",
   "execution_count": null,
   "id": "4b8a2db0-0478-487d-a72b-e9a6b6a53d06",
   "metadata": {},
   "outputs": [],
   "source": []
  },
  {
   "cell_type": "code",
   "execution_count": 57,
   "id": "dd849a66-3f9c-44e1-983c-6d3b99147584",
   "metadata": {},
   "outputs": [],
   "source": [
    "# 考察：冷蔵庫を購入するにあたりアマゾンの情報をスクレイピングした。新品との差異を出した方が購入の参考になりそうなので今後比較できる内容で再実装したい。"
   ]
  },
  {
   "cell_type": "code",
   "execution_count": null,
   "id": "57197875-18e7-40cc-83e6-7e1f09196f97",
   "metadata": {},
   "outputs": [],
   "source": [
    "#　今回のスクレイピングは個人的な情報収集でのみ利用するために行っており、商用目的での利用は一切考慮しておりません。"
   ]
  },
  {
   "cell_type": "code",
   "execution_count": null,
   "id": "27c214fe-1ced-4ee9-8c7e-62f35bf792b5",
   "metadata": {},
   "outputs": [],
   "source": []
  },
  {
   "cell_type": "code",
   "execution_count": null,
   "id": "925ef405-e3b1-497e-ab2e-956564da05ef",
   "metadata": {},
   "outputs": [],
   "source": []
  },
  {
   "cell_type": "code",
   "execution_count": null,
   "id": "fb611449-d4f1-43a9-bcf9-a043b0c6513d",
   "metadata": {},
   "outputs": [],
   "source": []
  },
  {
   "cell_type": "code",
   "execution_count": null,
   "id": "90b0fb87-f298-4787-b697-183f8403456a",
   "metadata": {},
   "outputs": [],
   "source": []
  },
  {
   "cell_type": "code",
   "execution_count": null,
   "id": "31ed663b-dcb9-4d4d-b4c1-0b31c9eedc66",
   "metadata": {},
   "outputs": [],
   "source": []
  }
 ],
 "metadata": {
  "kernelspec": {
   "display_name": "Python 3 (ipykernel)",
   "language": "python",
   "name": "python3"
  },
  "language_info": {
   "codemirror_mode": {
    "name": "ipython",
    "version": 3
   },
   "file_extension": ".py",
   "mimetype": "text/x-python",
   "name": "python",
   "nbconvert_exporter": "python",
   "pygments_lexer": "ipython3",
   "version": "3.12.4"
  }
 },
 "nbformat": 4,
 "nbformat_minor": 5
}
